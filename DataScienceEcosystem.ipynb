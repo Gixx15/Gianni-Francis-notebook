{
 "cells": [
  {
   "cell_type": "markdown",
   "id": "612b8866-53c0-4d1d-bf81-6083d4b5808d",
   "metadata": {
    "tags": []
   },
   "source": [
    "# Data Science Tools and Ecosystem"
   ]
  },
  {
   "cell_type": "markdown",
   "id": "057f35ba-d967-45d1-9ecc-98a22d552f63",
   "metadata": {},
   "source": [
    "In this notebook, Data Science Tools and Ecosystem are summarized."
   ]
  },
  {
   "cell_type": "markdown",
   "id": "0210ff12-f9ac-4bcc-9767-1d23c2169b6c",
   "metadata": {},
   "source": [
    "__Objectives:__\n",
    "+ List popular languages for Data Science\n",
    "+ List popular Data Science libraries\n",
    "+ List populat Data Science tools\n",
    "+ Arithmetic expressions\n"
   ]
  },
  {
   "cell_type": "markdown",
   "id": "db76547d-3083-4f63-bd41-313597811e14",
   "metadata": {},
   "source": [
    "Some of the popular languages that Data Scientists use are:\n",
    "1. Python\n",
    "2. SQL\n",
    "3. R\n",
    "4. Java"
   ]
  },
  {
   "cell_type": "markdown",
   "id": "7f62b483-a2d4-44b6-bb53-31a18c99ccef",
   "metadata": {},
   "source": [
    "Some of the commonly used libraries used by Data Scientists include:\n",
    "1. Pandas\n",
    "2. NumPy\n",
    "3. TensorFlow"
   ]
  },
  {
   "cell_type": "markdown",
   "id": "bb94c095-e181-4c70-8699-2729ebc3bc80",
   "metadata": {},
   "source": [
    "| Data Science Tools |\n",
    "| ------------------ |\n",
    "| Jupyter Notebooks |\n",
    "| Spyder | \n",
    "| RStudio |\n"
   ]
  },
  {
   "cell_type": "markdown",
   "id": "b546ca8c-fee8-4e9b-b22b-01f75293dc39",
   "metadata": {},
   "source": [
    "### Below are a few examples of evaluating arithmetic expressions in Python"
   ]
  },
  {
   "cell_type": "code",
   "execution_count": 4,
   "id": "8fd42a59-e72e-402a-8f8b-15ae490f3957",
   "metadata": {},
   "outputs": [
    {
     "data": {
      "text/plain": [
       "17"
      ]
     },
     "execution_count": 4,
     "metadata": {},
     "output_type": "execute_result"
    }
   ],
   "source": [
    "#This a simple arithmetic expression to mutiply then add integers\n",
    "(3*4)+5"
   ]
  },
  {
   "cell_type": "code",
   "execution_count": 5,
   "id": "01cfddb3-a15e-4a0c-8c73-630a0daf070c",
   "metadata": {},
   "outputs": [
    {
     "data": {
      "text/plain": [
       "3.3333333333333335"
      ]
     },
     "execution_count": 5,
     "metadata": {},
     "output_type": "execute_result"
    }
   ],
   "source": [
    "# This will convert 200 minutes to hours by diving by 60\n",
    "200/60"
   ]
  },
  {
   "cell_type": "markdown",
   "id": "b79a2ae9-bb33-4d99-9dd1-a4cf1621d389",
   "metadata": {},
   "source": [
    "## Author\n",
    "Gianni Francis"
   ]
  },
  {
   "cell_type": "code",
   "execution_count": null,
   "id": "e388e26a-94a4-4416-9f43-250aefd52d7f",
   "metadata": {},
   "outputs": [],
   "source": []
  }
 ],
 "metadata": {
  "kernelspec": {
   "display_name": "Python 3 (ipykernel)",
   "language": "python",
   "name": "python3"
  },
  "language_info": {
   "codemirror_mode": {
    "name": "ipython",
    "version": 3
   },
   "file_extension": ".py",
   "mimetype": "text/x-python",
   "name": "python",
   "nbconvert_exporter": "python",
   "pygments_lexer": "ipython3",
   "version": "3.9.7"
  }
 },
 "nbformat": 4,
 "nbformat_minor": 5
}
